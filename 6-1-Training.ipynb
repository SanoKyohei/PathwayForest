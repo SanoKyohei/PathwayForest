{
 "cells": [
  {
   "cell_type": "code",
   "execution_count": 1,
   "metadata": {},
   "outputs": [],
   "source": [
    "import pandas as pd\n",
    "import numpy as np\n",
    "import pickle\n",
    "import sys\n",
    "sys.path.append(\"/home/sano/TCGA_GSCE/TCGA_RF_Version_Last/\")\n",
    "\n",
    "import Mut_pred_V3 as Mut_pred\n",
    "from sklearn.ensemble import RandomForestClassifier\n",
    "from collections import Counter"
   ]
  },
  {
   "cell_type": "code",
   "execution_count": 2,
   "metadata": {},
   "outputs": [
    {
     "data": {
      "text/plain": [
       "<module 'Mut_pred_V3' from '/home/sano/TCGA_GSCE/TCGA_RF_Version_Last/Mut_pred_V3.py'>"
      ]
     },
     "execution_count": 2,
     "metadata": {},
     "output_type": "execute_result"
    }
   ],
   "source": [
    "import importlib\n",
    "importlib.reload(Mut_pred)"
   ]
  },
  {
   "cell_type": "code",
   "execution_count": 3,
   "metadata": {},
   "outputs": [],
   "source": [
    "Df=pd.read_csv(\"/data2/sano/TCGA_Version_LAST/TCGA_RNA_common_patient.csv\", index_col=0)\n",
    "Df=Df.T\n",
    "Driver_Mutation_Matrix=pd.read_csv(\"/data2/sano/TCGA_Version_LAST/TCGA_Answer_common_patient.csv\", index_col=0)\n",
    "gene_id=pd.read_table(\"/data2/sano/TCGA_Version_LAST/Gene_id.txt\", sep=\"\\t\", index_col=0)\n",
    "Gene_N=pd.read_csv( \"/data2/sano/TCGA_Version_LAST/Biogrid_Gene_100_gene.csv\", index_col=0)"
   ]
  },
  {
   "cell_type": "code",
   "execution_count": 4,
   "metadata": {},
   "outputs": [],
   "source": [
    "filename = \"/data2/sano/TCGA_Version_LAST/Train_Test_patient.pickle\"\n",
    "with open(filename, 'rb') as f:\n",
    "    Train_Test_Patients=pickle.load(f)"
   ]
  },
  {
   "cell_type": "markdown",
   "metadata": {},
   "source": [
    "# Training"
   ]
  },
  {
   "cell_type": "code",
   "execution_count": null,
   "metadata": {},
   "outputs": [],
   "source": [
    "for GENE in Gene_N.columns[0:25]:    \n",
    "    gene_100=Gene_N[GENE]\n",
    "    gene_100= [x for x in Gene_N[GENE]  if x == x]\n",
    "    TCGA_MTX=Mut_pred.MTX(Df, gene_100)\n",
    "    TCGA_MTX=TCGA_MTX.T\n",
    "    filename = \"/data2/sano/TCGA_Version_LAST/Models/MTX_\"+GENE+\".csv\"\n",
    "    TCGA_MTX.to_csv(filename )\n",
    "        \n",
    "    train_x =  TCGA_MTX.loc[Train_Test_Patients[\"train\"]]\n",
    "    train_y = Driver_Mutation_Matrix[GENE].loc[Train_Test_Patients[\"train\"]]\n",
    "\n",
    "    clf1 = RandomForestClassifier(max_depth=5, n_estimators=10000, random_state=0, class_weight='balanced')\n",
    "    clf1.fit(train_x, train_y)\n",
    "\n",
    "    filename = \"/data2/sano/TCGA_Version_LAST/Models/Model_\"+GENE+\".sav\"\n",
    "    with open(filename, 'wb') as f:\n",
    "        pickle.dump(clf1, f)"
   ]
  }
 ],
 "metadata": {
  "kernelspec": {
   "display_name": "TCGA",
   "language": "python",
   "name": "tcga"
  },
  "language_info": {
   "codemirror_mode": {
    "name": "ipython",
    "version": 3
   },
   "file_extension": ".py",
   "mimetype": "text/x-python",
   "name": "python",
   "nbconvert_exporter": "python",
   "pygments_lexer": "ipython3",
   "version": "3.7.6"
  }
 },
 "nbformat": 4,
 "nbformat_minor": 4
}
